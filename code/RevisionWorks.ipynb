{
 "cells": [
  {
   "cell_type": "code",
   "execution_count": null,
   "metadata": {},
   "outputs": [],
   "source": [
    "import numpy as np\n",
    "import matplotlib\n",
    "import matplotlib.pyplot as plt\n",
    "import pandas as pd\n",
    "from ripser import ripser\n",
    "from persim import plot_diagrams\n",
    "from scipy.spatial.distance import pdist, squareform\n",
    "from sklearn.model_selection import train_test_split\n",
    "from sklearn.linear_model import LinearRegression\n",
    "from sklearn.svm import LinearSVC, SVC, SVR\n",
    "from sklearn.decomposition import PCA\n",
    "from sklearn.metrics import accuracy_score, f1_score, precision_score, recall_score\n",
    "from sklearn.metrics import confusion_matrix\n",
    "from gtda.time_series import TakensEmbedding\n",
    "from PyEMD import EMD\n",
    "from statsmodels.tsa.stattools import adfuller\n",
    "from pylab import mpl\n",
    "from sklearn import preprocessing\n",
    "from sklearn.model_selection import GridSearchCV\n",
    "from statsmodels.tsa.arima.model import ARIMA\n",
    "import statsmodels.tsa.stattools as st    \n",
    "\n",
    "%matplotlib qt"
   ]
  },
  {
   "cell_type": "code",
   "execution_count": null,
   "metadata": {},
   "outputs": [],
   "source": [
    "# define load data func\n",
    "def load_data_from_csv(filepath: str) -> np.ndarray:\n",
    "    csv_file = pd.read_csv(filepath)\n",
    "    school_num = csv_file.shape[0]\n",
    "    year_num = csv_file.shape[1] - 2    # except first and last column\n",
    "    data_dim = len(csv_file.iloc[0, 1].strip().split())\n",
    "    school_names = tuple(csv_file[\"SchoolName\"])\n",
    "    data = np.zeros((school_num, year_num, data_dim))\n",
    "    for i, _ in enumerate(school_names):\n",
    "        data_row = list(csv_file.iloc[i, 1:year_num+1])\n",
    "        data_row = [_.strip().split() for _ in data_row]\n",
    "        data_row = [float(_) for l in data_row for _ in l]\n",
    "        data_row = np.array(data_row).reshape((year_num, -1))\n",
    "        data[i, :, :] = data_row\n",
    "    return data, school_names"
   ]
  },
  {
   "cell_type": "code",
   "execution_count": null,
   "metadata": {},
   "outputs": [],
   "source": [
    "# load data\n",
    "data, school_names = load_data_from_csv(\"../dataset/all-data.csv\")\n",
    "school_n, year_n, data_dim = data.shape\n",
    "idx2sch = {k:v for k,v in enumerate(school_names)}"
   ]
  },
  {
   "cell_type": "code",
   "execution_count": null,
   "metadata": {},
   "outputs": [],
   "source": [
    "# select the data we use (see README.md)\n",
    "selected_data_idx = np.array([0, 2, 7, 11, 15, 19])\n",
    "selected_data = data[:, :, selected_data_idx]\n",
    "selected_data = selected_data.transpose(0, 2, 1)\n",
    "print(selected_data.shape)"
   ]
  },
  {
   "cell_type": "code",
   "execution_count": null,
   "metadata": {},
   "outputs": [],
   "source": [
    "# more data!\n",
    "more_data_path = \"../dataset/more-school-all.npy\"\n",
    "more_data = np.load(more_data_path)\n",
    "selected_data = np.concatenate((selected_data, more_data), axis=0)\n",
    "print(selected_data.shape)"
   ]
  },
  {
   "cell_type": "code",
   "execution_count": null,
   "metadata": {},
   "outputs": [],
   "source": [
    "# define trend-generation func\n",
    "def generate_trend_matrix(statis_matrix: np.array, dot_prsv=2) -> np.array:\n",
    "    assert len(statis_matrix.shape) == 2\n",
    "    m, n = statis_matrix.shape\n",
    "    trend_matrix = np.empty((m, n-1))\n",
    "    for row in range(0, m):\n",
    "        for col in range(0, n-1):\n",
    "            trend_matrix[row, col] = round(statis_matrix[row, col+1] / statis_matrix[row, col], dot_prsv)\n",
    "    return trend_matrix"
   ]
  },
  {
   "cell_type": "code",
   "execution_count": null,
   "metadata": {},
   "outputs": [],
   "source": [
    "selected_data_2d = selected_data.reshape(-1, 10)\n",
    "selected_data_2d[selected_data_2d == 0] = np.finfo('float32').eps\n",
    "trends = [generate_trend_matrix(selected_data_2d[i, :].reshape(1,-1)).squeeze() for i in range(selected_data_2d.shape[0])]"
   ]
  },
  {
   "cell_type": "code",
   "execution_count": null,
   "metadata": {},
   "outputs": [],
   "source": [
    "# 0: trend <= 1\n",
    "# 1: 1 < trend <= 1.2\n",
    "# 2: 1.2 < trend <= 1.5\n",
    "# 3: 1.5 < trend\n",
    "def P_idx(x):\n",
    "    if x<=1:\n",
    "        return 0\n",
    "    elif x>1 and x<=1.25:\n",
    "        return 1\n",
    "    elif x>1.25 and x<=1.5:\n",
    "        return 2\n",
    "    else:\n",
    "        return 3\n",
    "\n",
    "# def P_idx(x):\n",
    "#     if x<=1:\n",
    "#         return 0\n",
    "#     elif x>1 and x<=1.5:\n",
    "#         return 1\n",
    "#     else:\n",
    "#         return 2\n",
    "\n",
    "# def P_idx(x):\n",
    "#     if x<=1:\n",
    "#         return 0\n",
    "#     else:\n",
    "#         return 1"
   ]
  },
  {
   "cell_type": "code",
   "execution_count": null,
   "metadata": {},
   "outputs": [],
   "source": [
    "X = np.array(trends)[:, :-1]\n",
    "print(X.shape)\n",
    "Y = np.array(trends)[:, -1].reshape(-1,1)\n",
    "print(Y.shape)\n",
    "# print(selected_data_2d)\n",
    "# print(Y)\n",
    "\n",
    "P_vec = np.vectorize(P_idx)\n",
    "Y = P_vec(Y)"
   ]
  },
  {
   "cell_type": "code",
   "execution_count": null,
   "metadata": {},
   "outputs": [],
   "source": [
    "X_train, X_test, Y_train, Y_test = train_test_split(X, Y)\n",
    "\n",
    "clf = SVC(kernel='poly')\n",
    "clf.fit(X_train, np.ravel(Y_train))\n",
    "print(precision_score(y_true=Y_test, y_pred=clf.predict(X_test), average='macro'))\n",
    "print(recall_score(y_true=Y_test, y_pred=clf.predict(X_test), average='macro'))\n",
    "print(accuracy_score(y_true=Y_test, y_pred=clf.predict(X_test)))\n",
    "print(f1_score(y_true=Y_test, y_pred=clf.predict(X_test), average='macro'))"
   ]
  }
 ],
 "metadata": {
  "kernelspec": {
   "display_name": "Python 3.7.13 ('ripser_env')",
   "language": "python",
   "name": "python3"
  },
  "language_info": {
   "codemirror_mode": {
    "name": "ipython",
    "version": 3
   },
   "file_extension": ".py",
   "mimetype": "text/x-python",
   "name": "python",
   "nbconvert_exporter": "python",
   "pygments_lexer": "ipython3",
   "version": "3.7.13"
  },
  "orig_nbformat": 4,
  "vscode": {
   "interpreter": {
    "hash": "2d856ea83737ecf31b084a6c4dd25de1f47360aa39d05be84e9035ad6a44a6c0"
   }
  }
 },
 "nbformat": 4,
 "nbformat_minor": 2
}
