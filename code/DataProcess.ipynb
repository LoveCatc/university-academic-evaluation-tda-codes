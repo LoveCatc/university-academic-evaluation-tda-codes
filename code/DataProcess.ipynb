{
 "cells": [
  {
   "cell_type": "code",
   "execution_count": 1,
   "metadata": {},
   "outputs": [],
   "source": [
    "import numpy as np\n",
    "import matplotlib\n",
    "import matplotlib.pyplot as plt\n",
    "import pandas as pd\n",
    "from ripser import ripser\n",
    "from persim import plot_diagrams\n",
    "from scipy.spatial.distance import pdist, squareform\n",
    "from sklearn.model_selection import train_test_split\n",
    "from sklearn.linear_model import LinearRegression\n",
    "from sklearn.svm import LinearSVC, SVC, SVR\n",
    "from sklearn.decomposition import PCA\n",
    "from sklearn.metrics import accuracy_score, precision_score, recall_score, f1_score\n",
    "from sklearn.metrics import confusion_matrix\n",
    "from sklearn import mixture\n",
    "from gtda.time_series import TakensEmbedding\n",
    "from PyEMD import EMD\n",
    "from statsmodels.tsa.stattools import adfuller\n",
    "from pylab import mpl\n",
    "from sklearn import preprocessing\n",
    "from scipy.io import arff\n",
    "import scipy\n",
    "import sklearn\n",
    "import torch\n",
    "from tqdm import tqdm\n",
    "from gtda.time_series import TakensEmbedding\n",
    "from gtda.diagrams import BettiCurve\n",
    "\n",
    "%matplotlib qt"
   ]
  },
  {
   "cell_type": "code",
   "execution_count": null,
   "metadata": {},
   "outputs": [],
   "source": [
    "# Index: SCI Published, SSCI Published, Number of State-Level Funds, Amount of National Natural Science Fund / Patent Applicated, Patent Authorized\n",
    "# Year: 2010-2019\n",
    "\n",
    "academy_file = '../dataset/top20.csv'\n",
    "patent_file = '../dataset/top20patent.csv'\n",
    "all_file = '../dataset/top20.npy'\n",
    "\n",
    "academy_list = []\n",
    "patent_list = []\n",
    "\n",
    "with open(academy_file, 'r', encoding='utf-8') as f:\n",
    "    for line in f.readlines():\n",
    "        d = line.replace('\\n','').split(',')\n",
    "        d.pop(0)\n",
    "        d = np.array([np.float(_) for _ in d])\n",
    "        academy_list.append(d.reshape(-1, 5).T) \n",
    "\n",
    "with open(patent_file, 'r', encoding='utf-8') as f:\n",
    "    for line in f.readlines():\n",
    "        d = line.replace('\\n','').split(',')\n",
    "        d.pop(0)\n",
    "        d = np.array([np.float(_) for _ in d])\n",
    "        patent_list.append(d.reshape(-1, 2).T) \n",
    "\n",
    "academy_np = np.array(academy_list)\n",
    "patent_np = np.array(patent_list)\n",
    "print(academy_np.shape)\n",
    "print(patent_np.shape)\n",
    "\n",
    "data = np.concatenate((academy_np, patent_np), axis=1)\n",
    "\n",
    "print(data.shape)\n",
    "print(data[0, :, :])\n",
    "\n",
    "np.save(all_file, data)"
   ]
  },
  {
   "cell_type": "code",
   "execution_count": 5,
   "metadata": {},
   "outputs": [],
   "source": [
    "from sklearn.datasets import make_circles\n",
    "\n",
    "x, y = make_circles(n_samples=2000, shuffle=True, \n",
    "                    noise=0.03, random_state=None, factor=0.6)\n",
    "mpl.rcParams['font.size'] = 18\n",
    "mpl.rcParams['font.family'] = \"Microsoft Reference Sans Serif\"\n",
    "plt.scatter(x[:,0], x[:,1], c=y, s=7)\n",
    "plt.show()"
   ]
  },
  {
   "cell_type": "code",
   "execution_count": 7,
   "metadata": {},
   "outputs": [
    {
     "name": "stderr",
     "output_type": "stream",
     "text": [
      "findfont: Font family ['Microsoft Reference Sans Serif'] not found. Falling back to DejaVu Sans.\n"
     ]
    }
   ],
   "source": [
    "r = ripser(x)\n",
    "mpl.rcParams['font.size'] = 18\n",
    "mpl.rcParams['font.family'] = \"Microsoft Reference Sans Serif\"\n",
    "plot_diagrams(r['dgms'], size=40)"
   ]
  }
 ],
 "metadata": {
  "kernelspec": {
   "display_name": "Python 3.7.13 ('ripser_env')",
   "language": "python",
   "name": "python3"
  },
  "language_info": {
   "codemirror_mode": {
    "name": "ipython",
    "version": 3
   },
   "file_extension": ".py",
   "mimetype": "text/x-python",
   "name": "python",
   "nbconvert_exporter": "python",
   "pygments_lexer": "ipython3",
   "version": "3.7.13"
  },
  "orig_nbformat": 4,
  "vscode": {
   "interpreter": {
    "hash": "2d856ea83737ecf31b084a6c4dd25de1f47360aa39d05be84e9035ad6a44a6c0"
   }
  }
 },
 "nbformat": 4,
 "nbformat_minor": 2
}
